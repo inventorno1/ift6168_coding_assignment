{
 "cells": [
  {
   "cell_type": "markdown",
   "metadata": {},
   "source": [
    "# IFT6168 coding assignment"
   ]
  },
  {
   "cell_type": "code",
   "execution_count": 1,
   "metadata": {},
   "outputs": [],
   "source": [
    "import pandas\n",
    "from sklearn.linear_model import LinearRegression, LogisticRegression\n",
    "from sklearn.preprocessing import PolynomialFeatures\n",
    "from sklearn.model_selection import KFold\n",
    "import numpy as np"
   ]
  },
  {
   "cell_type": "code",
   "execution_count": 2,
   "metadata": {},
   "outputs": [],
   "source": [
    "df = pandas.read_csv('/cim/ehoney/ift6168_coding_assignment/simulated_data.csv')"
   ]
  },
  {
   "cell_type": "code",
   "execution_count": 3,
   "metadata": {},
   "outputs": [
    {
     "data": {
      "text/html": [
       "<div>\n",
       "<style scoped>\n",
       "    .dataframe tbody tr th:only-of-type {\n",
       "        vertical-align: middle;\n",
       "    }\n",
       "\n",
       "    .dataframe tbody tr th {\n",
       "        vertical-align: top;\n",
       "    }\n",
       "\n",
       "    .dataframe thead th {\n",
       "        text-align: right;\n",
       "    }\n",
       "</style>\n",
       "<table border=\"1\" class=\"dataframe\">\n",
       "  <thead>\n",
       "    <tr style=\"text-align: right;\">\n",
       "      <th></th>\n",
       "      <th>Z1</th>\n",
       "      <th>Z2</th>\n",
       "      <th>W</th>\n",
       "      <th>T</th>\n",
       "      <th>M</th>\n",
       "      <th>Y</th>\n",
       "    </tr>\n",
       "  </thead>\n",
       "  <tbody>\n",
       "    <tr>\n",
       "      <th>0</th>\n",
       "      <td>0.696714</td>\n",
       "      <td>0.064301</td>\n",
       "      <td>0.885308</td>\n",
       "      <td>0</td>\n",
       "      <td>1</td>\n",
       "      <td>0</td>\n",
       "    </tr>\n",
       "    <tr>\n",
       "      <th>1</th>\n",
       "      <td>0.061736</td>\n",
       "      <td>0.138900</td>\n",
       "      <td>0.144426</td>\n",
       "      <td>1</td>\n",
       "      <td>1</td>\n",
       "      <td>1</td>\n",
       "    </tr>\n",
       "    <tr>\n",
       "      <th>2</th>\n",
       "      <td>0.847689</td>\n",
       "      <td>0.080524</td>\n",
       "      <td>-0.286333</td>\n",
       "      <td>1</td>\n",
       "      <td>0</td>\n",
       "      <td>0</td>\n",
       "    </tr>\n",
       "    <tr>\n",
       "      <th>3</th>\n",
       "      <td>1.723030</td>\n",
       "      <td>0.222084</td>\n",
       "      <td>1.819394</td>\n",
       "      <td>1</td>\n",
       "      <td>0</td>\n",
       "      <td>1</td>\n",
       "    </tr>\n",
       "    <tr>\n",
       "      <th>4</th>\n",
       "      <td>-0.034153</td>\n",
       "      <td>0.439436</td>\n",
       "      <td>-2.136031</td>\n",
       "      <td>1</td>\n",
       "      <td>1</td>\n",
       "      <td>0</td>\n",
       "    </tr>\n",
       "  </tbody>\n",
       "</table>\n",
       "</div>"
      ],
      "text/plain": [
       "         Z1        Z2         W  T  M  Y\n",
       "0  0.696714  0.064301  0.885308  0  1  0\n",
       "1  0.061736  0.138900  0.144426  1  1  1\n",
       "2  0.847689  0.080524 -0.286333  1  0  0\n",
       "3  1.723030  0.222084  1.819394  1  0  1\n",
       "4 -0.034153  0.439436 -2.136031  1  1  0"
      ]
     },
     "execution_count": 3,
     "metadata": {},
     "output_type": "execute_result"
    }
   ],
   "source": [
    "df.head()"
   ]
  },
  {
   "cell_type": "code",
   "execution_count": 4,
   "metadata": {},
   "outputs": [
    {
     "data": {
      "text/html": [
       "<div>\n",
       "<style scoped>\n",
       "    .dataframe tbody tr th:only-of-type {\n",
       "        vertical-align: middle;\n",
       "    }\n",
       "\n",
       "    .dataframe tbody tr th {\n",
       "        vertical-align: top;\n",
       "    }\n",
       "\n",
       "    .dataframe thead th {\n",
       "        text-align: right;\n",
       "    }\n",
       "</style>\n",
       "<table border=\"1\" class=\"dataframe\">\n",
       "  <thead>\n",
       "    <tr style=\"text-align: right;\">\n",
       "      <th></th>\n",
       "      <th>Z1</th>\n",
       "      <th>Z2</th>\n",
       "      <th>W</th>\n",
       "      <th>T</th>\n",
       "      <th>M</th>\n",
       "      <th>Y</th>\n",
       "    </tr>\n",
       "  </thead>\n",
       "  <tbody>\n",
       "    <tr>\n",
       "      <th>count</th>\n",
       "      <td>10000.000000</td>\n",
       "      <td>10000.000000</td>\n",
       "      <td>10000.000000</td>\n",
       "      <td>10000.0000</td>\n",
       "      <td>10000.000000</td>\n",
       "      <td>10000.00000</td>\n",
       "    </tr>\n",
       "    <tr>\n",
       "      <th>mean</th>\n",
       "      <td>0.197864</td>\n",
       "      <td>0.202707</td>\n",
       "      <td>-0.118175</td>\n",
       "      <td>0.5956</td>\n",
       "      <td>0.565600</td>\n",
       "      <td>0.48570</td>\n",
       "    </tr>\n",
       "    <tr>\n",
       "      <th>std</th>\n",
       "      <td>1.003462</td>\n",
       "      <td>0.200202</td>\n",
       "      <td>1.383609</td>\n",
       "      <td>0.4908</td>\n",
       "      <td>0.495703</td>\n",
       "      <td>0.49982</td>\n",
       "    </tr>\n",
       "    <tr>\n",
       "      <th>min</th>\n",
       "      <td>-3.722400</td>\n",
       "      <td>-0.571275</td>\n",
       "      <td>-6.187439</td>\n",
       "      <td>0.0000</td>\n",
       "      <td>0.000000</td>\n",
       "      <td>0.00000</td>\n",
       "    </tr>\n",
       "    <tr>\n",
       "      <th>25%</th>\n",
       "      <td>-0.472591</td>\n",
       "      <td>0.067598</td>\n",
       "      <td>-1.038364</td>\n",
       "      <td>0.0000</td>\n",
       "      <td>0.000000</td>\n",
       "      <td>0.00000</td>\n",
       "    </tr>\n",
       "    <tr>\n",
       "      <th>50%</th>\n",
       "      <td>0.197405</td>\n",
       "      <td>0.203169</td>\n",
       "      <td>-0.118197</td>\n",
       "      <td>1.0000</td>\n",
       "      <td>1.000000</td>\n",
       "      <td>0.00000</td>\n",
       "    </tr>\n",
       "    <tr>\n",
       "      <th>75%</th>\n",
       "      <td>0.871081</td>\n",
       "      <td>0.338773</td>\n",
       "      <td>0.825102</td>\n",
       "      <td>1.0000</td>\n",
       "      <td>1.000000</td>\n",
       "      <td>1.00000</td>\n",
       "    </tr>\n",
       "    <tr>\n",
       "      <th>max</th>\n",
       "      <td>4.126238</td>\n",
       "      <td>1.095817</td>\n",
       "      <td>4.877941</td>\n",
       "      <td>1.0000</td>\n",
       "      <td>1.000000</td>\n",
       "      <td>1.00000</td>\n",
       "    </tr>\n",
       "  </tbody>\n",
       "</table>\n",
       "</div>"
      ],
      "text/plain": [
       "                 Z1            Z2             W           T             M  \\\n",
       "count  10000.000000  10000.000000  10000.000000  10000.0000  10000.000000   \n",
       "mean       0.197864      0.202707     -0.118175      0.5956      0.565600   \n",
       "std        1.003462      0.200202      1.383609      0.4908      0.495703   \n",
       "min       -3.722400     -0.571275     -6.187439      0.0000      0.000000   \n",
       "25%       -0.472591      0.067598     -1.038364      0.0000      0.000000   \n",
       "50%        0.197405      0.203169     -0.118197      1.0000      1.000000   \n",
       "75%        0.871081      0.338773      0.825102      1.0000      1.000000   \n",
       "max        4.126238      1.095817      4.877941      1.0000      1.000000   \n",
       "\n",
       "                 Y  \n",
       "count  10000.00000  \n",
       "mean       0.48570  \n",
       "std        0.49982  \n",
       "min        0.00000  \n",
       "25%        0.00000  \n",
       "50%        0.00000  \n",
       "75%        1.00000  \n",
       "max        1.00000  "
      ]
     },
     "execution_count": 4,
     "metadata": {},
     "output_type": "execute_result"
    }
   ],
   "source": [
    "df.describe()"
   ]
  },
  {
   "cell_type": "markdown",
   "metadata": {},
   "source": [
    "## Reproducibility - setting random seed"
   ]
  },
  {
   "cell_type": "markdown",
   "metadata": {},
   "source": [
    "Sample random entropy using NumPy SeedSequence"
   ]
  },
  {
   "cell_type": "code",
   "execution_count": 5,
   "metadata": {},
   "outputs": [
    {
     "data": {
      "text/plain": [
       "SeedSequence(\n",
       "    entropy=100863271498176155769181426387931896632,\n",
       ")"
      ]
     },
     "execution_count": 5,
     "metadata": {},
     "output_type": "execute_result"
    }
   ],
   "source": [
    "np.random.SeedSequence()"
   ]
  },
  {
   "cell_type": "markdown",
   "metadata": {},
   "source": [
    "Truncate this to be small enough for a random seed"
   ]
  },
  {
   "cell_type": "code",
   "execution_count": 6,
   "metadata": {},
   "outputs": [
    {
     "name": "stdout",
     "output_type": "stream",
     "text": [
      "1424034400\n"
     ]
    }
   ],
   "source": [
    "random_entropy = 142403440064326749963510733700818406553\n",
    "random_seed = random_entropy // (10**29)\n",
    "print(random_seed)"
   ]
  },
  {
   "cell_type": "markdown",
   "metadata": {},
   "source": [
    "Create KFold object for splitting dataset into folds for the experiments"
   ]
  },
  {
   "cell_type": "code",
   "execution_count": 7,
   "metadata": {},
   "outputs": [],
   "source": [
    "num_folds=10\n",
    "kf = KFold(n_splits=num_folds, shuffle=True, random_state=random_seed)"
   ]
  },
  {
   "cell_type": "markdown",
   "metadata": {},
   "source": [
    "Assign each row a unique fold index"
   ]
  },
  {
   "cell_type": "code",
   "execution_count": 8,
   "metadata": {},
   "outputs": [],
   "source": [
    "for fold, (_, test_idx) in enumerate(kf.split(df)):\n",
    "    df.loc[test_idx, 'fold'] = fold"
   ]
  },
  {
   "cell_type": "markdown",
   "metadata": {},
   "source": [
    "Check this has been added correctly"
   ]
  },
  {
   "cell_type": "code",
   "execution_count": 9,
   "metadata": {},
   "outputs": [
    {
     "data": {
      "text/html": [
       "<div>\n",
       "<style scoped>\n",
       "    .dataframe tbody tr th:only-of-type {\n",
       "        vertical-align: middle;\n",
       "    }\n",
       "\n",
       "    .dataframe tbody tr th {\n",
       "        vertical-align: top;\n",
       "    }\n",
       "\n",
       "    .dataframe thead th {\n",
       "        text-align: right;\n",
       "    }\n",
       "</style>\n",
       "<table border=\"1\" class=\"dataframe\">\n",
       "  <thead>\n",
       "    <tr style=\"text-align: right;\">\n",
       "      <th></th>\n",
       "      <th>Z1</th>\n",
       "      <th>Z2</th>\n",
       "      <th>W</th>\n",
       "      <th>T</th>\n",
       "      <th>M</th>\n",
       "      <th>Y</th>\n",
       "      <th>fold</th>\n",
       "    </tr>\n",
       "  </thead>\n",
       "  <tbody>\n",
       "    <tr>\n",
       "      <th>0</th>\n",
       "      <td>0.696714</td>\n",
       "      <td>0.064301</td>\n",
       "      <td>0.885308</td>\n",
       "      <td>0</td>\n",
       "      <td>1</td>\n",
       "      <td>0</td>\n",
       "      <td>2.0</td>\n",
       "    </tr>\n",
       "    <tr>\n",
       "      <th>1</th>\n",
       "      <td>0.061736</td>\n",
       "      <td>0.138900</td>\n",
       "      <td>0.144426</td>\n",
       "      <td>1</td>\n",
       "      <td>1</td>\n",
       "      <td>1</td>\n",
       "      <td>3.0</td>\n",
       "    </tr>\n",
       "    <tr>\n",
       "      <th>2</th>\n",
       "      <td>0.847689</td>\n",
       "      <td>0.080524</td>\n",
       "      <td>-0.286333</td>\n",
       "      <td>1</td>\n",
       "      <td>0</td>\n",
       "      <td>0</td>\n",
       "      <td>8.0</td>\n",
       "    </tr>\n",
       "    <tr>\n",
       "      <th>3</th>\n",
       "      <td>1.723030</td>\n",
       "      <td>0.222084</td>\n",
       "      <td>1.819394</td>\n",
       "      <td>1</td>\n",
       "      <td>0</td>\n",
       "      <td>1</td>\n",
       "      <td>3.0</td>\n",
       "    </tr>\n",
       "    <tr>\n",
       "      <th>4</th>\n",
       "      <td>-0.034153</td>\n",
       "      <td>0.439436</td>\n",
       "      <td>-2.136031</td>\n",
       "      <td>1</td>\n",
       "      <td>1</td>\n",
       "      <td>0</td>\n",
       "      <td>6.0</td>\n",
       "    </tr>\n",
       "  </tbody>\n",
       "</table>\n",
       "</div>"
      ],
      "text/plain": [
       "         Z1        Z2         W  T  M  Y  fold\n",
       "0  0.696714  0.064301  0.885308  0  1  0   2.0\n",
       "1  0.061736  0.138900  0.144426  1  1  1   3.0\n",
       "2  0.847689  0.080524 -0.286333  1  0  0   8.0\n",
       "3  1.723030  0.222084  1.819394  1  0  1   3.0\n",
       "4 -0.034153  0.439436 -2.136031  1  1  0   6.0"
      ]
     },
     "execution_count": 9,
     "metadata": {},
     "output_type": "execute_result"
    }
   ],
   "source": [
    "df.head()"
   ]
  },
  {
   "cell_type": "markdown",
   "metadata": {},
   "source": [
    "## Question 2"
   ]
  },
  {
   "cell_type": "markdown",
   "metadata": {},
   "source": [
    "Select our valid adjustment set"
   ]
  },
  {
   "cell_type": "code",
   "execution_count": 10,
   "metadata": {},
   "outputs": [],
   "source": [
    "S = [\"Z1\", \"Z2\", \"W\"]"
   ]
  },
  {
   "cell_type": "markdown",
   "metadata": {},
   "source": [
    "### 2(i) - Plug-in estimator with linear model of outcomes\n",
    "\n",
    "We use linear regression to model $\\mathbb{E}[Y|T=t,X=x]$ as $Q(t,x)$, where $X$ represents confounding variables in the valid adjustment set."
   ]
  },
  {
   "cell_type": "markdown",
   "metadata": {},
   "source": [
    "We just use the test set of each fold, since these are disjoint across the folds.\n",
    "\n",
    "As suggested in the Murphy textbook, we can simply read off the regression coefficient for the treatment variable $T$ as our estimate of the ATE."
   ]
  },
  {
   "cell_type": "code",
   "execution_count": 11,
   "metadata": {},
   "outputs": [],
   "source": [
    "linear_plugin_estimates = []\n",
    "for i in range(num_folds):\n",
    "    split = df[df['fold']==i]\n",
    "\n",
    "    model = LinearRegression()\n",
    "    model.fit(split[S + ['T']], split['Y'])\n",
    "\n",
    "    linear_plugin_estimates.append(model.coef_[-1])"
   ]
  },
  {
   "cell_type": "code",
   "execution_count": 12,
   "metadata": {},
   "outputs": [],
   "source": [
    "linear_plugin_estimates = np.array(linear_plugin_estimates)"
   ]
  },
  {
   "cell_type": "code",
   "execution_count": 13,
   "metadata": {},
   "outputs": [
    {
     "name": "stdout",
     "output_type": "stream",
     "text": [
      "0.0052859427167032125\n",
      "0.022137884323740892\n"
     ]
    }
   ],
   "source": [
    "print(np.mean(linear_plugin_estimates))\n",
    "print(np.std(linear_plugin_estimates))"
   ]
  },
  {
   "cell_type": "markdown",
   "metadata": {},
   "source": [
    "### 2(ii) - Plug-in estimator with nonlinear model of outcomes"
   ]
  },
  {
   "cell_type": "markdown",
   "metadata": {},
   "source": [
    "Now we want to model $\\mathbb{E}[Y|T=t,X=x]$ with a nonlinear function. We will use polynomial regression. We will perform a hyperparameter search on the maximum degree to use, selecting based on smallest mean squared error."
   ]
  },
  {
   "cell_type": "code",
   "execution_count": 14,
   "metadata": {},
   "outputs": [
    {
     "name": "stdout",
     "output_type": "stream",
     "text": [
      "For degree = 2, average MSE = 0.44572499691508394\n",
      "For degree = 3, average MSE = 0.4554575323769052\n",
      "For degree = 4, average MSE = 0.45617021749875064\n",
      "For degree = 5, average MSE = 0.459837680968558\n",
      "For degree = 6, average MSE = 0.4684469497760223\n",
      "For degree = 7, average MSE = 0.46984934547618035\n"
     ]
    }
   ],
   "source": [
    "average_mses_for_degree = {}\n",
    "for d in range(2, 8):\n",
    "    poly = PolynomialFeatures(degree=d, include_bias=False)\n",
    "    mse_vals = []\n",
    "    for i in range(num_folds):\n",
    "        train_split = df[df['fold']!=i]\n",
    "        test_split = df[df['fold']==i]\n",
    "\n",
    "        train_features = poly.fit_transform(train_split[S + ['T']])\n",
    "        test_features = poly.fit_transform(test_split[S + ['T']])\n",
    "\n",
    "        model = LinearRegression()\n",
    "        model.fit(train_features, train_split['Y'])\n",
    "\n",
    "        preds = model.predict(test_features)\n",
    "        errors = test_split['T'] - preds\n",
    "        mse = np.mean(errors**2)\n",
    "        mse_vals.append(mse)\n",
    "    average_mse = np.mean(np.array(mse_vals))\n",
    "    average_mses_for_degree[d] = average_mse\n",
    "    print(f\"For degree = {d}, average MSE = {average_mse}\")"
   ]
  },
  {
   "cell_type": "markdown",
   "metadata": {},
   "source": [
    "The mean squred error on test data appears to increase slightly with degree, so we will choose degree equal to 2 (a simple yet nonlinear model of outcomes).\n",
    "\n",
    "Since our polynomial regression model includes interaction terms between the treatment variable $T$ and the confounding variables in our adjustment set $S$, we cannot simply read off the regression coefficient of $T$ as our effect estimate. Instead, we must use the general formula for the plug-in estimator."
   ]
  },
  {
   "cell_type": "code",
   "execution_count": 15,
   "metadata": {},
   "outputs": [],
   "source": [
    "poly = PolynomialFeatures(degree=2, include_bias=False)\n",
    "\n",
    "nonlinear_plugin_estimates = []\n",
    "for i in range(num_folds):\n",
    "    split = df[df['fold']==i]\n",
    "\n",
    "    features = poly.fit_transform(split[S + ['T']])\n",
    "\n",
    "    model = LinearRegression()\n",
    "    model.fit(features, split['Y'])\n",
    "\n",
    "    test_input_with_treatment = split[S].copy()\n",
    "    test_input_without_treatment = split[S].copy()\n",
    "\n",
    "    test_input_with_treatment['T'] = 1\n",
    "    test_input_without_treatment['T'] = 0\n",
    "\n",
    "    test_input_with_treatment = poly.fit_transform(test_input_with_treatment)\n",
    "    test_input_without_treatment = poly.fit_transform(test_input_without_treatment)\n",
    "\n",
    "    nonlinear_plugin = np.mean((model.predict(test_input_with_treatment) - model.predict(test_input_without_treatment)))\n",
    "    nonlinear_plugin_estimates.append(nonlinear_plugin)"
   ]
  },
  {
   "cell_type": "code",
   "execution_count": 16,
   "metadata": {},
   "outputs": [],
   "source": [
    "nonlinear_plugin_estimates = np.array(nonlinear_plugin_estimates)"
   ]
  },
  {
   "cell_type": "code",
   "execution_count": 17,
   "metadata": {},
   "outputs": [
    {
     "name": "stdout",
     "output_type": "stream",
     "text": [
      "0.00554072499982334\n",
      "0.0234180759722199\n"
     ]
    }
   ],
   "source": [
    "print(np.mean(nonlinear_plugin_estimates))\n",
    "print(np.std(nonlinear_plugin_estimates))"
   ]
  },
  {
   "cell_type": "markdown",
   "metadata": {},
   "source": [
    "### 2(iii) - Inverse propensity weighting estimator with linear model of treatments\n",
    "\n",
    "Now we want to estimate the propensity score function $g(x) = \\mathbb{P}(T=1|X=x)$ by fitting a logistic regression model, before computing the estimator using the IPTW estimator formula."
   ]
  },
  {
   "cell_type": "code",
   "execution_count": 18,
   "metadata": {},
   "outputs": [],
   "source": [
    "iptw_estimates = []\n",
    "for i in range(num_folds):\n",
    "    split = df[df['fold']==i]\n",
    "    # split = df\n",
    "    model = LogisticRegression()\n",
    "    model.fit(split[S], split['T'])\n",
    "\n",
    "    Y = split['Y']\n",
    "    T = split['T']\n",
    "    g_pred = model.predict_proba(split[S])[:,1] # indexing the T=1 probability\n",
    "\n",
    "    iptw = np.mean(Y*T/g_pred - Y*(1-T)/(1-g_pred)) # applying iptw estimator formula\n",
    "\n",
    "    iptw_estimates.append(iptw)"
   ]
  },
  {
   "cell_type": "code",
   "execution_count": 19,
   "metadata": {},
   "outputs": [],
   "source": [
    "iptw_estimates = np.array(iptw_estimates)"
   ]
  },
  {
   "cell_type": "code",
   "execution_count": 20,
   "metadata": {},
   "outputs": [
    {
     "name": "stdout",
     "output_type": "stream",
     "text": [
      "0.010142491037043486\n",
      "0.031260712142922885\n"
     ]
    }
   ],
   "source": [
    "print(np.mean(iptw_estimates))\n",
    "print(np.std(iptw_estimates))"
   ]
  },
  {
   "cell_type": "markdown",
   "metadata": {},
   "source": [
    "### Naive baseline that performs no adjustment\n",
    "\n",
    "For this we will simply fit a linear regression model for predicting the outcome $Y$ from the treatment $T$."
   ]
  },
  {
   "cell_type": "code",
   "execution_count": 21,
   "metadata": {},
   "outputs": [],
   "source": [
    "naive_estimates = []\n",
    "for i in range(num_folds):\n",
    "    split = df[df['fold']==i]\n",
    "\n",
    "    model = LinearRegression()\n",
    "    model.fit(split[['T']], split['Y'])\n",
    "\n",
    "    naive_estimates.append(model.coef_[-1])"
   ]
  },
  {
   "cell_type": "code",
   "execution_count": 22,
   "metadata": {},
   "outputs": [],
   "source": [
    "naive_estimates = np.array(naive_estimates)"
   ]
  },
  {
   "cell_type": "code",
   "execution_count": 23,
   "metadata": {},
   "outputs": [
    {
     "name": "stdout",
     "output_type": "stream",
     "text": [
      "-0.16194201170279193\n",
      "0.02861518341087688\n"
     ]
    }
   ],
   "source": [
    "print(np.mean(naive_estimates))\n",
    "print(np.std(naive_estimates))"
   ]
  },
  {
   "cell_type": "markdown",
   "metadata": {},
   "source": [
    "## Question 3"
   ]
  },
  {
   "cell_type": "markdown",
   "metadata": {},
   "source": [
    "We will use the plug-in estimator with linear model of outcomes here. We have already evaluated it for one adjustment set so we will repeat for the remaining two."
   ]
  },
  {
   "cell_type": "code",
   "execution_count": 24,
   "metadata": {},
   "outputs": [
    {
     "name": "stdout",
     "output_type": "stream",
     "text": [
      "0.0056102757211121375\n",
      "0.022850143594064617\n"
     ]
    }
   ],
   "source": [
    "S = [\"Z1\", \"W\"]\n",
    "\n",
    "linear_plugin_estimates = []\n",
    "for i in range(num_folds):\n",
    "    split = df[df['fold']==i]\n",
    "\n",
    "    model = LinearRegression()\n",
    "    model.fit(split[S + ['T']], split['Y'])\n",
    "\n",
    "    linear_plugin_estimates.append(model.coef_[-1])\n",
    "\n",
    "linear_plugin_estimates = np.array(linear_plugin_estimates)\n",
    "\n",
    "print(np.mean(linear_plugin_estimates))\n",
    "print(np.std(linear_plugin_estimates))"
   ]
  },
  {
   "cell_type": "code",
   "execution_count": 25,
   "metadata": {},
   "outputs": [
    {
     "name": "stdout",
     "output_type": "stream",
     "text": [
      "0.00454050657504\n",
      "0.020404455594611882\n"
     ]
    }
   ],
   "source": [
    "S = [\"Z2\", \"W\"]\n",
    "\n",
    "linear_plugin_estimates = []\n",
    "for i in range(num_folds):\n",
    "    split = df[df['fold']==i]\n",
    "\n",
    "    model = LinearRegression()\n",
    "    model.fit(split[S + ['T']], split['Y'])\n",
    "\n",
    "    linear_plugin_estimates.append(model.coef_[-1])\n",
    "\n",
    "linear_plugin_estimates = np.array(linear_plugin_estimates)\n",
    "\n",
    "print(np.mean(linear_plugin_estimates))\n",
    "print(np.std(linear_plugin_estimates))"
   ]
  },
  {
   "cell_type": "markdown",
   "metadata": {},
   "source": [
    "## Question 4"
   ]
  },
  {
   "cell_type": "markdown",
   "metadata": {},
   "source": [
    "We will include the mediator $M$ to make an invalid adjustment set. We will again use the linear plug-in estimator."
   ]
  },
  {
   "cell_type": "code",
   "execution_count": 26,
   "metadata": {},
   "outputs": [
    {
     "name": "stdout",
     "output_type": "stream",
     "text": [
      "-0.0029568309728112557\n",
      "0.023132405497617362\n"
     ]
    }
   ],
   "source": [
    "S = [\"Z1\", \"Z2\", \"W\", \"M\"]\n",
    "\n",
    "linear_plugin_estimates = []\n",
    "for i in range(num_folds):\n",
    "    split = df[df['fold']==i]\n",
    "\n",
    "    model = LinearRegression()\n",
    "    model.fit(split[S + ['T']], split['Y'])\n",
    "\n",
    "    linear_plugin_estimates.append(model.coef_[-1])\n",
    "\n",
    "linear_plugin_estimates = np.array(linear_plugin_estimates)\n",
    "\n",
    "print(np.mean(linear_plugin_estimates))\n",
    "print(np.std(linear_plugin_estimates))"
   ]
  }
 ],
 "metadata": {
  "kernelspec": {
   "display_name": "venv",
   "language": "python",
   "name": "python3"
  },
  "language_info": {
   "codemirror_mode": {
    "name": "ipython",
    "version": 3
   },
   "file_extension": ".py",
   "mimetype": "text/x-python",
   "name": "python",
   "nbconvert_exporter": "python",
   "pygments_lexer": "ipython3",
   "version": "3.10.14"
  }
 },
 "nbformat": 4,
 "nbformat_minor": 2
}
